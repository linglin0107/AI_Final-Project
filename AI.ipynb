{
 "metadata": {
  "language_info": {
   "codemirror_mode": {
    "name": "ipython",
    "version": 3
   },
   "file_extension": ".py",
   "mimetype": "text/x-python",
   "name": "python",
   "nbconvert_exporter": "python",
   "pygments_lexer": "ipython3",
   "version": "2.7.16-final"
  },
  "orig_nbformat": 2,
  "kernelspec": {
   "name": "python3",
   "language": "python",
   "display_name": "Python 3"
  }
 },
 "nbformat": 4,
 "nbformat_minor": 2,
 "cells": [
  {
   "cell_type": "code",
   "execution_count": 3,
   "outputs": [
    {
     "name": "stdout",
     "output_type": "stream",
     "text": [
      "total restaurants in PA is 4500\n",
      "50\n",
      "['x4855nj7vfdXeVpg5fREZA', 'bxffbg7kCn5iHxtdYp7gJQ', '3wg8xiywSGA96DWCF0WOLw', 'Aelkw-nyg9I8aQM9mK_yhw', 'nqkMURJeB7RBi2serBYFNg', 'TwnzM8mJn_nT2PJf1x-9kQ', 'pORvWLJb_ioqIrNo-yacfw', 'ZhAPdzBxhvvNInbhEPZ6jw', 'v1msvs2bf_LwGUnIcCgSEg', '18790ccUVHejWqCmkoSJjA', 'FD7gMovIYQmhdn23Iq91zQ', 'RnhLCG4N9MPy6ZRzq787Cg', 'wLdbs0Bt87aTRKYh7DmhjA', 'BsR5RIMJB5P9f0-SDMZHYg', 'LnZvGYbqozanOSevcftnrw', 'b5PFC7Uatlsr5AZqSZyCpQ', 'aKvowH2UXGvoxJgIRf04Zw', 'mhm7pNRVZhSr3RBo9Y2NSQ', 'swcfmflnWlhnbvPOHvPq_A', 'luzi9ygrx1X5aAvVg3mR6w', 'Mt6XTQfwk2DUD3AK29YIBg', 'm0za_1Ocf0Q0rxlBYVDq7g', 'POzBrXKhfXigUoHjQjW7BA', '4vy8j-L9zXXFH_wh2sVzAw', 'iSdBNNyU2wJLZmFUA8yFPg', 'ktMvtPI3TBkTOpSf1sTXWw', 'alUk6OwNhofyc90NDMDY-Q', 'vf2dlfdopFlerxozUwgPDg', '8JcdN89xv4AqAVRSDLLUHw', 'Zc4FUPqvjBfi2Rclla6PtA', 'ZtjQub4hsEbltiofZyllRA', '7pwZZVVlYCxQvVdd8Q03wg', 'kGjpBqAqG4mIuFSgU2KKEA', 'Yz0fJyBkUF8VZBvwFswkRQ', 'UdHM_g-JbjxQvGaHKykKeA', 's8NjvzYuOefJMCPp_119cQ', 'hz_jlKOsbQT3bsucp670qA', '_T0cPZE2ZJOTTlYYKMP64Q', 'DV08ZJKq_hPS_6Q8GKt0pg', 'K0lttiVfWWP1u5JmsVp4cA', 'JZVK_yoV48O_2gDykG_1Ow', 'Qx-cNcDXpS4WjTCgj5yRmg', 'fyxmwXdg9fJ13TpuF-KSbQ', 'Tdz-vjDRKI6LRzyaW3BMkg', 'JASlc6gfA2AJ-VaLXgPgUw', 'Hh1Zl6DvtWThIqA0-oa6XA', 'Ep_jh1Pt4Ggyla21f-BQcQ', 'xLgVWOSAeT19zKb9Xo60KQ', 'uD_nMWd5b5d7gW1srYH6Jg', '5nFoMJ2-tljaFFKIK3EyOw']\n"
     ]
    }
   ],
   "source": [
    "# get all business ids in pittsburgh\n",
    "import requests\n",
    "\n",
    "GET_ALL_RESTAURANT = 'https://api.yelp.com/v3/businesses/search'\n",
    "API_KEY = '_h1ZDN4fbjYfpsC7rKWg7WwPMvGK6zbX5nqFTfBCs0IxMFJCpm-DXtQ_xLn3y5a9DXLNBxF-6r-FvzQmpem9eXhlWuRo2UrppIpdlhDAruH6MasgoehjK0nqvO66X3Yx'\n",
    "\n",
    "HEADERS = {'Authorization': 'bearer %s' % API_KEY}\n",
    "\n",
    "PARAMETERS = {'term': 'restaurants',\n",
    "             'location': 'PA',\n",
    "              'limit': 50,\n",
    "              'offset': 950}\n",
    "\n",
    "response = requests.get(url = GET_ALL_RESTAURANT,\n",
    "                        params = PARAMETERS,\n",
    "                        headers = HEADERS)\n",
    "\n",
    "business_data = response.json()\n",
    "total_numbers = business_data.get(\"total\")\n",
    "\n",
    "print(\"total restaurants in PA is\", total_numbers)\n",
    "\n",
    "businesses = business_data.get(\"businesses\")\n",
    "print(len(businesses))\n",
    "businessIds = map(lambda x : x.get(\"id\"), businesses)\n",
    "\n",
    "print(list(businessIds))\n"
   ],
   "metadata": {
    "collapsed": false,
    "pycharm": {
     "name": "#%%\n"
    }
   }
  },
  {
   "cell_type": "code",
   "execution_count": 4,
   "metadata": {
    "pycharm": {
     "name": "#%%\n"
    }
   },
   "outputs": [
    {
     "name": "stdout",
     "output_type": "stream",
     "text": [
      "15\n",
      "['2020-11-02 17:04:19', '2020-11-22 10:30:56', '2020-11-16 19:33:38']\n"
     ]
    }
   ],
   "source": [
    "import requests\n",
    "# A business in Pittsburgh\n",
    "business_id = 'VSc5hpsT_CCt_Hvj92mbPg'\n",
    "\n",
    "unix_time = 1546047836\n",
    "\n",
    "GET_ALL_RESTAURANT = 'https://api.yelp.com/v3/businesses/search'\n",
    "\n",
    "# Define my API Key, My Endpoint, and My Header\n",
    "API_KEY = '_h1ZDN4fbjYfpsC7rKWg7WwPMvGK6zbX5nqFTfBCs0IxMFJCpm-DXtQ_xLn3y5a9DXLNBxF-6r-FvzQmpem9eXhlWuRo2UrppIpdlhDAruH6MasgoehjK0nqvO66X3Yx'\n",
    "ENDPOINT = 'https://api.yelp.com/v3/businesses/{}/reviews'.format(business_id)\n",
    "\n",
    "#API_KEY is your key copied from Yelp account: new App\n",
    "\n",
    "HEADERS = {'Authorization': 'bearer %s' % API_KEY}\n",
    "\n",
    "# Define my parameters of the search\n",
    "# BUSINESS SEARCH PARAMETERS - EXAMPLE\n",
    "PARAMETERS = {'locale': 'en_US'}\n",
    "\n",
    "# Make a request to the Yelp API\n",
    "response = requests.get(url = ENDPOINT,\n",
    "                        params = PARAMETERS,\n",
    "                        headers = HEADERS)\n",
    "\n",
    "# Conver the JSON String\n",
    "business_data = response.json()\n",
    "print(business_data.get(\"total\"))\n",
    "reviews = business_data.get(\"reviews\")\n",
    "\n",
    "review_time_created = map(lambda x: x.get(\"time_created\"), reviews)\n",
    "\n",
    "# print the response\n",
    "print (list(review_time_created))"
   ]
  }
 ]
}